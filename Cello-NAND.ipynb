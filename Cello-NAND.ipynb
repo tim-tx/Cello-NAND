{
 "cells": [
  {
   "cell_type": "code",
   "execution_count": 1,
   "metadata": {},
   "outputs": [],
   "source": [
    "from pycello2.ucf import UCF\n",
    "import json\n",
    "import sympy\n",
    "import numpy as np\n",
    "import matplotlib.pyplot as plt\n",
    "%matplotlib inline"
   ]
  },
  {
   "cell_type": "code",
   "execution_count": 2,
   "metadata": {},
   "outputs": [],
   "source": [
    "with open(\"Eco1C1G1T1.UCF.json\") as ucf_file:\n",
    "    ucf = json.load(ucf_file)\n",
    "    ucf = UCF(ucf)"
   ]
  },
  {
   "cell_type": "code",
   "execution_count": 3,
   "metadata": {},
   "outputs": [],
   "source": [
    "func = {}\n",
    "for gate in ucf.gates:\n",
    "    x = sympy.symbols(' '.join(gate.variables))\n",
    "    p = sympy.symbols(' '.join(gate.parameters.keys()))\n",
    "    subs = ((param, gate.parameters[param.name]) for param in p)\n",
    "    expr = sympy.simplify(gate.equation).subs(subs)\n",
    "    f = sympy.lambdify(x, expr, 'numpy')\n",
    "    func[gate] = f"
   ]
  },
  {
   "cell_type": "code",
   "execution_count": 4,
   "metadata": {},
   "outputs": [],
   "source": [
    "x = np.logspace(-3,2)"
   ]
  },
  {
   "cell_type": "code",
   "execution_count": 5,
   "metadata": {},
   "outputs": [],
   "source": [
    "tt = {}\n",
    "for i in range(len(ucf.gates)):\n",
    "    pairs = []\n",
    "    for j in range(len(ucf.gates)):\n",
    "        for k in range(j, len(ucf.gates)):\n",
    "            if (ucf.gates[i].group == ucf.gates[j].group or ucf.gates[j].group == ucf.gates[k].group or ucf.gates[k].group == ucf.gates[i].group):\n",
    "                continue\n",
    "            table = {\n",
    "                '00': func[ucf.gates[i]](ucf.gates[j].parameters['ymin'] + ucf.gates[k].parameters['ymin']),\n",
    "                '01': func[ucf.gates[i]](ucf.gates[j].parameters['ymin'] + ucf.gates[k].parameters['ymax']),\n",
    "                '10': func[ucf.gates[i]](ucf.gates[j].parameters['ymax'] + ucf.gates[k].parameters['ymin']),\n",
    "                '11': func[ucf.gates[i]](ucf.gates[j].parameters['ymax'] + ucf.gates[k].parameters['ymax'])\n",
    "            }\n",
    "            tt[(ucf.gates[i].name, ucf.gates[j].name, ucf.gates[k].name)] = table"
   ]
  },
  {
   "cell_type": "code",
   "execution_count": 6,
   "metadata": {},
   "outputs": [],
   "source": [
    "nand = []\n",
    "nor = []\n",
    "for key in tt.keys():\n",
    "    nand.append(min(tt[key]['00'],tt[key]['01'],tt[key]['10'])/tt[key]['11'])\n",
    "    nor.append(tt[key]['00']/max(tt[key]['01'],tt[key]['10'],tt[key]['11']))"
   ]
  },
  {
   "cell_type": "code",
   "execution_count": 8,
   "metadata": {},
   "outputs": [
    {
     "data": {
      "image/png": "[encoded data removed]",
      "text/plain": [
       "<Figure size 432x288 with 1 Axes>"
      ]
     },
     "metadata": {
      "needs_background": "light"
     },
     "output_type": "display_data"
    },
    {
     "data": {
      "image/png": "[encoded data removed]",
      "text/plain": [
       "<Figure size 432x288 with 1 Axes>"
      ]
     },
     "metadata": {
      "needs_background": "light"
     },
     "output_type": "display_data"
    }
   ],
   "source": [
    "plt.subplots()\n",
    "bins = np.linspace(0,600)\n",
    "plt.hist(nor, bins=bins)\n",
    "plt.ylim(0,3000)\n",
    "plt.xlabel(\"score\")\n",
    "plt.ylabel(\"count\")\n",
    "plt.title(\"NOR\")\n",
    "plt.subplots()\n",
    "plt.hist(nand, bins=bins)\n",
    "plt.ylim(0,3000)\n",
    "plt.xlabel(\"score\")\n",
    "plt.ylabel(\"count\")\n",
    "plt.title(\"NAND\");"
   ]
  },
  {
   "cell_type": "code",
   "execution_count": null,
   "metadata": {},
   "outputs": [],
   "source": []
  }
 ],
 "metadata": {
  "kernelspec": {
   "display_name": "Python 3",
   "language": "python",
   "name": "python3"
  },
  "language_info": {
   "codemirror_mode": {
    "name": "ipython",
    "version": 3
   },
   "file_extension": ".py",
   "mimetype": "text/x-python",
   "name": "python",
   "nbconvert_exporter": "python",
   "pygments_lexer": "ipython3",
   "version": "3.7.5"
  }
 },
 "nbformat": 4,
 "nbformat_minor": 2
}
